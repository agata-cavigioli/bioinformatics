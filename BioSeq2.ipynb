{
 "cells": [
  {
   "cell_type": "code",
   "execution_count": 3,
   "id": "178cc985-5639-4743-907b-d89a355a8f48",
   "metadata": {},
   "outputs": [],
   "source": [
    "from Bio import SeqIO"
   ]
  },
  {
   "cell_type": "code",
   "execution_count": 7,
   "id": "80f48870-93aa-4132-b2d8-fd51e9794919",
   "metadata": {},
   "outputs": [
    {
     "name": "stdout",
     "output_type": "stream",
     "text": [
      "sp|P01308|INS_HUMAN\n"
     ]
    }
   ],
   "source": [
    "registros = SeqIO.parse(\"P01308.fasta\",\"fasta\")\n",
    "registro_secuencia = next(registros)\n",
    "print(registro_secuencia.id)\n"
   ]
  },
  {
   "cell_type": "code",
   "execution_count": null,
   "id": "0d7b02a1-4fd3-40bd-8553-0d8e9cf4ef17",
   "metadata": {},
   "outputs": [],
   "source": []
  }
 ],
 "metadata": {
  "kernelspec": {
   "display_name": "Python 3 (ipykernel)",
   "language": "python",
   "name": "python3"
  },
  "language_info": {
   "codemirror_mode": {
    "name": "ipython",
    "version": 3
   },
   "file_extension": ".py",
   "mimetype": "text/x-python",
   "name": "python",
   "nbconvert_exporter": "python",
   "pygments_lexer": "ipython3",
   "version": "3.10.12"
  }
 },
 "nbformat": 4,
 "nbformat_minor": 5
}
