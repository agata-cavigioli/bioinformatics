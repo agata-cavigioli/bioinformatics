{
 "cells": [
  {
   "cell_type": "markdown",
   "id": "48198d98-5e87-4d92-ba09-7416edef460c",
   "metadata": {},
   "source": [
    "# Ejercicio 1"
   ]
  },
  {
   "cell_type": "code",
   "execution_count": 27,
   "id": "dc98d714-15b3-4c12-999c-698feaca2a96",
   "metadata": {},
   "outputs": [
    {
     "name": "stdout",
     "output_type": "stream",
     "text": [
      "Número de nodos: 15\n",
      "Número de terminales: 8\n",
      "Nombre de cada terminal: A, B, C, D, E, F, G, H\n",
      "Longitud de cada rama:\n",
      "Rama None: 0.5\n",
      "Rama A: 0.2\n",
      "Rama B: 0.3\n",
      "Rama C: 0.4\n",
      "Rama D: 0.7\n",
      "Rama E: 0.5\n",
      "Rama F: 0.4\n",
      "Rama G: 0.6\n",
      "Rama H: 0.2\n",
      "Clado más común: None\n"
     ]
    },
    {
     "data": {
      "image/png": "[encoded data removed]",
      "text/plain": [
       "<Figure size 640x480 with 1 Axes>"
      ]
     },
     "metadata": {},
     "output_type": "display_data"
    }
   ],
   "source": [
    "from Bio import Phylo\n",
    "\n",
    "# Leer el archivo Newick\n",
    "tree = Phylo.read('simple.dnd', 'newick')\n",
    "\n",
    "# Obtener información básica\n",
    "num_nodos = len(tree.get_terminals()) + len(tree.get_nonterminals())  # Número de nodos\n",
    "num_terminales = len(tree.get_terminals())  # Número de terminales\n",
    "nombres_terminales = [terminal.name for terminal in tree.get_terminals()]  # Nombre de cada terminal\n",
    "\n",
    "# Longitud de cada rama\n",
    "ramas = {}\n",
    "for clado in tree.find_clades():\n",
    "    if clado.branch_length:\n",
    "        ramas[clado.name] = clado.branch_length\n",
    "\n",
    "# Encontrar el clado más común\n",
    "ancestros_terminales = [tree.common_ancestor(nombres_terminales)]\n",
    "for terminal in nombres_terminales[1:]:\n",
    "    ancestros_terminales.append(tree.common_ancestor([nombres_terminales[0], terminal]))\n",
    "\n",
    "contador_clados = {ancestro: ancestros_terminales.count(ancestro) for ancestro in set(ancestros_terminales)}\n",
    "clado_comun = max(contador_clados, key=contador_clados.get).name\n",
    "\n",
    "# Mostrar la información obtenida\n",
    "print(f\"Número de nodos: {num_nodos}\")\n",
    "print(f\"Número de terminales: {num_terminales}\")\n",
    "print(f\"Nombre de cada terminal: {', '.join(nombres_terminales)}\")\n",
    "print(\"Longitud de cada rama:\")\n",
    "for clado, longitud in ramas.items():\n",
    "    print(f\"Rama {clado}: {longitud}\")\n",
    "print(f\"Clado más común: {clado_comun}\")\n",
    "\n",
    "Phylo.draw(tree)\n"
   ]
  },
  {
   "cell_type": "markdown",
   "id": "d8c09a80-db2c-42f9-83bf-fd2a02d491b7",
   "metadata": {},
   "source": [
    "# Ejercicio 2\n",
    "Modifica el árbol filogenético previo cambiando el nombre, la longitud o el color de algunos nodos o ramas. Por ejemplo, cambia el nombre de las especies, la longitud de la rama que conecta alguna especie por 0.5 y el color de la rama que conecta alguna otra especie por rojo."
   ]
  },
  {
   "cell_type": "code",
   "execution_count": 41,
   "id": "8e62e5f0-4260-4fbc-8b87-0600bd855bfc",
   "metadata": {},
   "outputs": [
    {
     "name": "stdout",
     "output_type": "stream",
     "text": [
      "Longitud de rama modificada para el nodo 'XYZ'\n"
     ]
    },
    {
     "data": {
      "image/png": "[encoded data removed]",
      "text/plain": [
       "<Figure size 640x480 with 1 Axes>"
      ]
     },
     "metadata": {},
     "output_type": "display_data"
    }
   ],
   "source": [
    "newtree = Phylo.read('simple.dnd','newick')\n",
    "\n",
    "branch1  = newtree.common_ancestor({'name':'G'},{'name':'H'})\n",
    "branch1.color='red'\n",
    "\n",
    "# Buscar el clado (nodo) con nombre 'G'\n",
    "node_G = None\n",
    "for clade in newtree.find_clades():\n",
    "    if clade.name == 'G':\n",
    "        node_G = clade\n",
    "        break\n",
    "\n",
    "# Verificar si se encontró el nodo 'G' y modificar su longitud de rama si existe\n",
    "if node_G:\n",
    "    node_G.branch_length = 0.5\n",
    "    node_G.name = 'XYZ'\n",
    "    print(\"Longitud de rama modificada para el nodo 'XYZ'\")\n",
    "else:\n",
    "    print(\"Nodo 'G' no encontrado en el árbol\")\n",
    "    \n",
    "Phylo.draw(newtree)"
   ]
  },
  {
   "cell_type": "code",
   "execution_count": null,
   "id": "e99fdb2a-ffe1-465e-ab6e-c0fd180dc42f",
   "metadata": {},
   "outputs": [],
   "source": [
    " from Bio import SeqIO, Seq\n",
    "from Bio.SeqRecord import SeqRecord\n",
    "from Bio.Phylo.TreeConstruction import DistanceCalculator, DistanceTreeConstructor\n",
    "from Bio.Phylo.TreeConstruction import ParsimonyTreeConstructor\n",
    "from Bio.Phylo.TreeConstruction import DistanceTreeConstructor\n",
    "from Bio.Phylo.TreeConstruction import DistanceTreeConstructor, ParsimonyTreeConstructor\n",
    "from Bio.Phylo.TreeConstruction import DistanceCalculator, ParsimonyScorer\n",
    "from Bio.Phylo.TreeConstruction import DistanceTreeConstructor\n",
    "from Bio.Phylo.TreeConstruction import DistanceTreeConstructor, DistanceMatrix\n",
    "from Bio.Phylo.TreeConstruction import DistanceTreeConstructor\n",
    "from Bio import AlignIO\n",
    "from io import StringIO\n",
    "\n",
    "import random\n",
    "\n",
    "# Generar secuencias aleatorias de 5 nucleótidos\n",
    "random_sequences = [\"\".join(random.choices('ACGT', k=5)) for _ in range(5)]\n",
    "\n",
    "# Crear registros SeqRecord para cada secuencia\n",
    "records = [SeqRecord(Seq.Seq(seq), id=f\"Seq{i+1}\") for i, seq in enumerate(random_sequences)]\n",
    "\n",
    "# Guardar las secuencias en un archivo FASTA\n",
    "SeqIO.write(records, \"random_sequences.fasta\", \"fasta\")\n",
    "\n",
    "# Leer el archivo FASTA y generar los árboles filogenéticos\n",
    "alignment = AlignIO.read(\"random_sequences.fasta\", \"fasta\")\n",
    "\n",
    "# Método de Máxima Parsimonia\n",
    "scorer = ParsimonyScorer()\n",
    "constructor = ParsimonyTreeConstructor(scorer)\n",
    "parsimony_tree = constructor.build_tree(alignment)\n",
    "\n",
    "# Método de Distancia - UPGMA\n",
    "calculator = DistanceCalculator('identity')\n",
    "dm = calculator.get_distance(alignment)\n",
    "upgma_constructor = DistanceTreeConstructor()\n",
    "upgma_tree = upgma_constructor.upgma(dm)\n",
    "\n",
    "# Método de Distancia - Neighbor Joining\n",
    "nj_constructor = DistanceTreeConstructor()\n",
    "nj_tree = nj_constructor.nj(dm)\n",
    "\n",
    "# Imprimir los árboles resultantes\n",
    "print(\"Árbol por Máxima Parsimonia:\")\n",
    "Phylo.draw(parsimony_tree)\n",
    "print(\"\\nÁrbol por Distancia (UPGMA):\")\n",
    "Phylo.draw(upgma_tree)\n",
    "print(\"\\nÁrbol por Distancia (Neighbor Joining):\")\n",
    "Phylo.draw(nj_tree)\n"
   ]
  },
  {
   "cell_type": "code",
   "execution_count": null,
   "id": "572c9a48-b5a3-4de1-8dce-e7f26da753b7",
   "metadata": {},
   "outputs": [],
   "source": []
  }
 ],
 "metadata": {
  "kernelspec": {
   "display_name": "Python 3 (ipykernel)",
   "language": "python",
   "name": "python3"
  },
  "language_info": {
   "codemirror_mode": {
    "name": "ipython",
    "version": 3
   },
   "file_extension": ".py",
   "mimetype": "text/x-python",
   "name": "python",
   "nbconvert_exporter": "python",
   "pygments_lexer": "ipython3",
   "version": "3.10.12"
  }
 },
 "nbformat": 4,
 "nbformat_minor": 5
}
