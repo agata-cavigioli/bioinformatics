{
 "cells": [
  {
   "cell_type": "code",
   "execution_count": 39,
   "id": "fa7bd4ba-18a7-401e-8e91-6e04f0d1af8a",
   "metadata": {},
   "outputs": [
    {
     "name": "stdout",
     "output_type": "stream",
     "text": [
      "Fasta format\n",
      "EGFR\n",
      "Descripción:  NM_005228.4 Homo sapiens epidermal growth factor receptor (EGFR), transcript variant 1, mRNA\n",
      "Longitud:  6369\n",
      "Composición de bases (A, T, C, G): {'A': 1731, 'T': 1417, 'C': 1680, 'G': 1541}\n",
      "\n",
      "GeneBank format\n",
      "EGFR\n",
      "Descripción:  Homo sapiens epidermal growth factor receptor (EGFR), transcript variant 1, mRNA\n",
      "Longitud:  6369\n",
      "Composición de bases (A, T, C, G): {'A': 1731, 'T': 1417, 'C': 1680, 'G': 1541}\n",
      "\n",
      "Fasta format\n",
      "ADRB2\n",
      "Descripción:  NM_000024.5 Homo sapiens adrenoceptor beta 2 (ADRB2), mRNA\n",
      "Longitud:  2058\n",
      "Composición de bases (A, T, C, G): {'A': 492, 'T': 534, 'C': 530, 'G': 502}\n",
      "\n",
      "GeneBank format\n",
      "ADRB2\n",
      "Descripción:  Homo sapiens adrenoceptor beta 2 (ADRB2), mRNA\n",
      "Longitud:  2058\n",
      "Composición de bases (A, T, C, G): {'A': 492, 'T': 534, 'C': 530, 'G': 502}\n"
     ]
    }
   ],
   "source": [
    "from Bio import SeqIO\n",
    "#Hemoglobina\n",
    "\n",
    "def genAnalysis(fasta_file,extension):\n",
    "    for record in SeqIO.parse(fasta_file, extension):\n",
    "        print(\"Descripción: \", record.description)\n",
    "        print(\"Longitud: \", len(record))\n",
    "        atcg_counts = {\n",
    "            \"A\": record.seq.count(\"A\"),\n",
    "            \"T\": record.seq.count(\"T\"),\n",
    "            \"C\": record.seq.count(\"C\"),\n",
    "            \"G\": record.seq.count(\"G\")\n",
    "        }\n",
    "        print(\"Composición de bases (A, T, C, G):\", atcg_counts)\n",
    "        return record.description,len(record),atcg_counts\n",
    "        \n",
    "sequencesfasta = {}\n",
    "sequencesgb = {}\n",
    "\n",
    "print(\"Fasta format\")\n",
    "seq = \"EGFR\"\n",
    "print(seq.upper())\n",
    "seqfile = \"biodata/\"+seq+\".fna\"\n",
    "sequencesfasta[seq] = genAnalysis(seqfile,\"fasta\")\n",
    "#Hdesc,Hlen,Hcount = sequences[seq]\n",
    "#print(sequences[seq][0])  #description\n",
    "#print(sequences[seq][1])  #length\n",
    "#print(sequences[seq][2])  #count\n",
    "print(\"\\nGeneBank format\")\n",
    "seq = \"EGFR\"\n",
    "print(seq.upper())\n",
    "seqfile = \"biodata/\"+seq+\".gb\"\n",
    "sequencesgb[seq] = genAnalysis(seqfile,\"gb\")\n",
    "\n",
    "print(\"\\nFasta format\")\n",
    "seq = \"ADRB2\"\n",
    "print(seq.upper())\n",
    "seqfile = \"biodata/\"+seq+\".fna\"\n",
    "sequencesfasta[seq] = genAnalysis(seqfile,\"fasta\")\n",
    "\n",
    "print(\"\\nGeneBank format\")\n",
    "seq = \"ADRB2\"\n",
    "print(seq.upper())\n",
    "seqfile = \"biodata/\"+seq+\".gb\"\n",
    "sequencesgb[seq] = genAnalysis(seqfile,\"gb\")\n"
   ]
  },
  {
   "cell_type": "markdown",
   "id": "87fe0669-e229-4377-af87-b8c02fffcda1",
   "metadata": {},
   "source": [
    "# Análisis Comparativo de Secuencias de ADN en Formato FASTA y GenBank:\n",
    "\n",
    "## Descripción de las secuencias:\n",
    "\n",
    "### ¿Qué tipo de información contienen los archivos?\n",
    "Los archivos contienen información sobre secuencias de genes específicos de Homo sapiens.\n",
    "\n",
    "### ¿Son secuencias de genes específicos, genomas completos u otras entidades biológicas?\n",
    "Las secuencias corresponden a genes específicos, en este caso, \"EGFR\" y \"ADRB2,\" y se trata de transcripciones de mRNA de Homo sapiens.\n",
    "\n",
    "## Características de las Secuencias:\n",
    "\n",
    "### Longitud y composición:\n",
    "En el caso del gen \"EGFR,\" la secuencia tiene una longitud de 6369 bases y una composición de bases de 1731 adeninas (A), 1417 timinas (T), 1680 citosinas (C) y 1541 guaninas (G).\n",
    "En el caso del gen \"ADRB2,\" la secuencia tiene una longitud de 2058 bases y una composición de bases de 492 adeninas (A), 534 timinas (T), 530 citosinas (C) y 502 guaninas (G).\n",
    "Estas secuencias en ambos formatos contienen información sobre genes específicos y se utilizan para describir las transcripciones de mRNA correspondientes a esos genes en la especie Homo sapiens. Cada secuencia tiene una longitud única y una composición de bases que varía entre adeninas (A), timinas (T), citosinas (C) y guaninas (G)."
   ]
  },
  {
   "cell_type": "code",
   "execution_count": null,
   "id": "95ef3370-454f-4f1b-9ff8-9a1bc58d98a4",
   "metadata": {},
   "outputs": [],
   "source": []
  }
 ],
 "metadata": {
  "kernelspec": {
   "display_name": "Python 3 (ipykernel)",
   "language": "python",
   "name": "python3"
  },
  "language_info": {
   "codemirror_mode": {
    "name": "ipython",
    "version": 3
   },
   "file_extension": ".py",
   "mimetype": "text/x-python",
   "name": "python",
   "nbconvert_exporter": "python",
   "pygments_lexer": "ipython3",
   "version": "3.10.12"
  }
 },
 "nbformat": 4,
 "nbformat_minor": 5
}
