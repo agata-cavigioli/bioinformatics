{
 "cells": [
  {
   "cell_type": "code",
   "execution_count": 5,
   "id": "68ae9579",
   "metadata": {},
   "outputs": [
    {
     "name": "stdout",
     "output_type": "stream",
     "text": [
      "GATCGATAT\n",
      "CTAGCTATA\n"
     ]
    }
   ],
   "source": [
    "from Bio.Seq import Seq\n",
    "mi_seq = Seq('GATCGATAT')\n",
    "print(mi_seq)\n",
    "print(mi_seq.complement())"
   ]
  },
  {
   "cell_type": "code",
   "execution_count": 6,
   "id": "f25ac85e",
   "metadata": {},
   "outputs": [
    {
     "name": "stdout",
     "output_type": "stream",
     "text": [
      "9\n",
      "C\n"
     ]
    }
   ],
   "source": [
    "print(len(mi_seq))\n",
    "print(mi_seq[3])"
   ]
  },
  {
   "cell_type": "code",
   "execution_count": 7,
   "id": "1b287d38-f2ba-4ef7-aeaf-701c7ba127e3",
   "metadata": {},
   "outputs": [
    {
     "name": "stdout",
     "output_type": "stream",
     "text": [
      "GAUCGAUAU\n"
     ]
    }
   ],
   "source": [
    "print(mi_seq.transcribe())"
   ]
  },
  {
   "cell_type": "code",
   "execution_count": 8,
   "id": "116c0724-8edd-4709-96e6-b1ce4c21fe2f",
   "metadata": {},
   "outputs": [
    {
     "name": "stdout",
     "output_type": "stream",
     "text": [
      "DRY\n"
     ]
    }
   ],
   "source": [
    "print(mi_seq.transcribe().translate())"
   ]
  },
  {
   "cell_type": "code",
   "execution_count": null,
   "id": "2890eb3b-4819-4377-933a-81fd990a0f48",
   "metadata": {},
   "outputs": [],
   "source": []
  }
 ],
 "metadata": {
  "kernelspec": {
   "display_name": "Python 3 (ipykernel)",
   "language": "python",
   "name": "python3"
  },
  "language_info": {
   "codemirror_mode": {
    "name": "ipython",
    "version": 3
   },
   "file_extension": ".py",
   "mimetype": "text/x-python",
   "name": "python",
   "nbconvert_exporter": "python",
   "pygments_lexer": "ipython3",
   "version": "3.10.12"
  }
 },
 "nbformat": 4,
 "nbformat_minor": 5
}
