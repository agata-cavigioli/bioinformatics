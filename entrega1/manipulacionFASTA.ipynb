{
 "cells": [
  {
   "cell_type": "code",
   "execution_count": 2,
   "metadata": {},
   "outputs": [
    {
     "name": "stdout",
     "output_type": "stream",
     "text": [
      "ID: NM_000024.5, GC Content: 50.15%\n",
      "ID: NM_005228.4, GC Content: 50.57%\n",
      "ID: NM_000518.5, GC Content: 51.27%\n",
      "ID: NM_000207.3, GC Content: 63.87%\n"
     ]
    }
   ],
   "source": [
    "from Bio import SeqIO\n",
    "from Bio.SeqRecord import SeqRecord\n",
    "\n",
    "input_file = \"genes.fasta\" \n",
    "\n",
    "# Lista para almacenar los contenidos de GC y las secuencias de aminoácidos\n",
    "gc_contents = []\n",
    "protein_sequences = []\n",
    "\n",
    "for record in SeqIO.parse(input_file, \"fasta\"):\n",
    "    gc_content = (record.seq.count(\"G\") + record.seq.count(\"C\")) / len(record.seq) * 100\n",
    "    gc_contents.append(gc_content)\n",
    "    \n",
    "    # Traducir la secuencia de ADN a aminoácidos (suponiendo que son codificantes)\n",
    "    protein_seq = record.seq.translate(to_stop=True)  # Traducción con parada al encontrar un codón de parada\n",
    "    protein_sequences.append(protein_seq)\n",
    "    \n",
    "    print(f\"ID: {record.id}, GC Content: {gc_content:.2f}%\")\n",
    "    \n",
    "# Escribir secuencias de aminoácidos en un archivo FASTA de salida\n",
    "output_file = \"output_protein_sequences.fasta\" \n",
    "with open(output_file, \"w\") as output_handle:\n",
    "    for i, sequence in enumerate(protein_sequences):\n",
    "        # Crear un SeqRecord para cada secuencia de aminoácidos\n",
    "        protein_record = SeqRecord(sequence, id=record.id, description=record.description)\n",
    "        \n",
    "        # Escribir la secuencia de aminoácidos en el archivo FASTA de salida\n",
    "        SeqIO.write(protein_record, output_handle, \"fasta\")\n"
   ]
  },
  {
   "cell_type": "code",
   "execution_count": null,
   "metadata": {},
   "outputs": [],
   "source": []
  },
  {
   "cell_type": "code",
   "execution_count": null,
   "metadata": {},
   "outputs": [],
   "source": []
  }
 ],
 "metadata": {
  "kernelspec": {
   "display_name": "Python 3 (ipykernel)",
   "language": "python",
   "name": "python3"
  },
  "language_info": {
   "codemirror_mode": {
    "name": "ipython",
    "version": 3
   },
   "file_extension": ".py",
   "mimetype": "text/x-python",
   "name": "python",
   "nbconvert_exporter": "python",
   "pygments_lexer": "ipython3",
   "version": "3.10.12"
  }
 },
 "nbformat": 4,
 "nbformat_minor": 4
}
