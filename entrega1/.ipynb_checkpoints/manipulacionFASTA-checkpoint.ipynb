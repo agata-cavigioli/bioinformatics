{
  "metadata": {
    "language_info": {
      "codemirror_mode": {
        "name": "python",
        "version": 3
      },
      "file_extension": ".py",
      "mimetype": "text/x-python",
      "name": "python",
      "nbconvert_exporter": "python",
      "pygments_lexer": "ipython3",
      "version": "3.8"
    },
    "kernelspec": {
      "name": "python",
      "display_name": "Python (Pyodide)",
      "language": "python"
    }
  },
  "nbformat_minor": 4,
  "nbformat": 4,
  "cells": [
    {
      "cell_type": "code",
      "source": "from Bio import SeqIO\nfrom Bio.SeqRecord import SeqRecord\n    \nregistro = SeqIO.parse(\"genes.fasta\", \"fasta\")\n\nfor registro_secuencia in SeqIO.parse(\"genes.fasta\" , \"fasta\"):\n    secuence = registro_secuencia.seq\n    numero = registro_secuencia.count(\"GC\")\n    print(numero)\n\n\n\nregistros=[]\nfor registro_secuencia in SeqIO.parse(\"genes.fasta\" , \"fasta\"):\n    registro = SeqRecord(registro.translate(), id=registro.id, description = description.id)\n    \n    registro.append(registros)\n    \nnumero_registros_escritos = seqIO.write(registros, \"mi_registro.fasta\", \"genes.fasta\")\n\n",
      "metadata": {
        "trusted": true
      },
      "execution_count": 10,
      "outputs": [
        {
          "ename": "<class 'AttributeError'>",
          "evalue": "'FastaIterator' object has no attribute 'translate'",
          "traceback": [
            "\u001b[0;31m---------------------------------------------------------------------------\u001b[0m",
            "\u001b[0;31mAttributeError\u001b[0m                            Traceback (most recent call last)",
            "Cell \u001b[0;32mIn[10], line 14\u001b[0m\n\u001b[1;32m     12\u001b[0m registros\u001b[38;5;241m=\u001b[39m[]\n\u001b[1;32m     13\u001b[0m \u001b[38;5;28;01mfor\u001b[39;00m registro_secuencia \u001b[38;5;129;01min\u001b[39;00m SeqIO\u001b[38;5;241m.\u001b[39mparse(\u001b[38;5;124m\"\u001b[39m\u001b[38;5;124mgenes.fasta\u001b[39m\u001b[38;5;124m\"\u001b[39m , \u001b[38;5;124m\"\u001b[39m\u001b[38;5;124mfasta\u001b[39m\u001b[38;5;124m\"\u001b[39m):\n\u001b[0;32m---> 14\u001b[0m     registro \u001b[38;5;241m=\u001b[39m SeqRecord(\u001b[43mregistro\u001b[49m\u001b[38;5;241;43m.\u001b[39;49m\u001b[43mtranslate\u001b[49m(), \u001b[38;5;28mid\u001b[39m\u001b[38;5;241m=\u001b[39mregistro\u001b[38;5;241m.\u001b[39mid, description \u001b[38;5;241m=\u001b[39m description\u001b[38;5;241m.\u001b[39mid)\n\u001b[1;32m     16\u001b[0m     registro\u001b[38;5;241m.\u001b[39mappend(registros)\n\u001b[1;32m     18\u001b[0m numero_registros_escritos \u001b[38;5;241m=\u001b[39m seqIO\u001b[38;5;241m.\u001b[39mwrite(registros, \u001b[38;5;124m\"\u001b[39m\u001b[38;5;124mmi_registro.fasta\u001b[39m\u001b[38;5;124m\"\u001b[39m, \u001b[38;5;124m\"\u001b[39m\u001b[38;5;124mgenes.fasta\u001b[39m\u001b[38;5;124m\"\u001b[39m)\n",
            "\u001b[0;31mAttributeError\u001b[0m: 'FastaIterator' object has no attribute 'translate'"
          ],
          "output_type": "error"
        }
      ]
    },
    {
      "cell_type": "code",
      "source": "",
      "metadata": {},
      "execution_count": null,
      "outputs": []
    },
    {
      "cell_type": "code",
      "source": "",
      "metadata": {},
      "execution_count": null,
      "outputs": []
    }
  ]
}