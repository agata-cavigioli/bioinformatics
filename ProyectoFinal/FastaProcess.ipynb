{
 "cells": [
  {
   "cell_type": "code",
   "execution_count": 2,
   "id": "e6dd32b7-d984-4c50-abd6-beb713a2838c",
   "metadata": {},
   "outputs": [
    {
     "name": "stdout",
     "output_type": "stream",
     "text": [
      "Sequences truncated to length 1370. Output written to FastaTree.fasta\n"
     ]
    }
   ],
   "source": [
    "from Bio import SeqIO\n",
    "\n",
    "# Function to find the shortest sequence length in a FASTA file\n",
    "def find_shortest_sequence_length(filename):\n",
    "    shortest_length = float('inf')\n",
    "    for record in SeqIO.parse(filename, \"fasta\"):\n",
    "        sequence_length = len(record.seq)\n",
    "        if sequence_length < shortest_length:\n",
    "            shortest_length = sequence_length\n",
    "    return shortest_length\n",
    "\n",
    "# Function to truncate sequences in a FASTA file\n",
    "def truncate_sequences(filename):\n",
    "    shortest_length = find_shortest_sequence_length(filename)\n",
    "    truncated_records = []\n",
    "\n",
    "    for record in SeqIO.parse(filename, \"fasta\"):\n",
    "        truncated_sequence = record.seq[:shortest_length]\n",
    "        record.seq = truncated_sequence\n",
    "        truncated_records.append(record)\n",
    "\n",
    "    output_file = f\"FastaTree.fasta\"\n",
    "    with open(output_file, \"w\") as output_handle:\n",
    "        SeqIO.write(truncated_records, output_handle, \"fasta\")\n",
    "\n",
    "    print(f\"Sequences truncated to length {shortest_length}. Output written to {output_file}\")\n",
    "\n",
    "# Replace 'input.fasta' with your FASTA file name\n",
    "truncate_sequences('file FASTA albero.fasta')\n"
   ]
  },
  {
   "cell_type": "code",
   "execution_count": null,
   "id": "aeb1a4a2-bc10-4fda-997d-20ca0075d248",
   "metadata": {},
   "outputs": [],
   "source": []
  }
 ],
 "metadata": {
  "kernelspec": {
   "display_name": "Python 3 (ipykernel)",
   "language": "python",
   "name": "python3"
  },
  "language_info": {
   "codemirror_mode": {
    "name": "ipython",
    "version": 3
   },
   "file_extension": ".py",
   "mimetype": "text/x-python",
   "name": "python",
   "nbconvert_exporter": "python",
   "pygments_lexer": "ipython3",
   "version": "3.10.12"
  }
 },
 "nbformat": 4,
 "nbformat_minor": 5
}
