{
 "cells": [
  {
   "cell_type": "code",
   "execution_count": 5,
   "id": "58b4f04d-ff03-42b5-aee1-58a323992ac1",
   "metadata": {},
   "outputs": [],
   "source": [
    "import pandas as pd\n",
    "\n",
    "#transform to cvs file\n",
    "excel_file = pd.read_excel('pnas.2308511120.sd02 (2).xlsx')\n",
    "excel_file.to_csv('initial_database.csv', index=False)\n"
   ]
  },
  {
   "cell_type": "code",
   "execution_count": 8,
   "id": "a98c673d-57a0-404d-be7a-61db0132f9c9",
   "metadata": {},
   "outputs": [],
   "source": [
    "import pandas as pd\n",
    "\n",
    "df = pd.read_csv('initial_database.csv')\n",
    "#delete unuseful columns\n",
    "columns_to_delete = ['Unnamed: 0', 'mass', 'for_final_table','extrapolate','density','err','mean_volume_fl','mean_volume_err','mass_err'] \n",
    "df = df.drop(columns=columns_to_delete, axis=1)\n",
    "\n",
    "df.to_csv('database.csv', index=False)"
   ]
  },
  {
   "cell_type": "code",
   "execution_count": 10,
   "id": "2fe03ff5-6f0d-41b1-b939-14ab0e41cb61",
   "metadata": {},
   "outputs": [],
   "source": [
    "import pandas as pd\n",
    "\n",
    "df = pd.read_csv('database.csv')\n",
    "\n",
    "column_name = 'cell_type'  \n",
    "value_to_keep = 'T cells' \n",
    "\n",
    "# Filter the DataFrame\n",
    "df = df[df[column_name] == value_to_keep]\n",
    "df = df.drop(columns=column_name, axis=1)\n",
    "\n",
    "df.to_csv('database.csv', index=False)\n"
   ]
  }
 ],
 "metadata": {
  "kernelspec": {
   "display_name": "Python 3 (ipykernel)",
   "language": "python",
   "name": "python3"
  },
  "language_info": {
   "codemirror_mode": {
    "name": "ipython",
    "version": 3
   },
   "file_extension": ".py",
   "mimetype": "text/x-python",
   "name": "python",
   "nbconvert_exporter": "python",
   "pygments_lexer": "ipython3",
   "version": "3.10.12"
  }
 },
 "nbformat": 4,
 "nbformat_minor": 5
}
