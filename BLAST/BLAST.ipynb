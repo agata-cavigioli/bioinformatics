{
 "cells": [
  {
   "cell_type": "markdown",
   "id": "a8d6b01a-ade0-41e9-8996-ccc38a8e3311",
   "metadata": {},
   "source": [
    "# Ejercicio 1\n",
    "\n",
    "Escribe un programa en Python que use Biopython para hacer una búsqueda\n",
    "BLAST de una secuencia de ADN que introduzcas por teclado. El programa debe mostrar por\n",
    "pantalla el número de resultados obtenidos, el E-value del mejor resultado y la descripción de\n",
    "la secuencia más similar."
   ]
  },
  {
   "cell_type": "code",
   "execution_count": 2,
   "id": "93bb367b-f4e0-4f24-9b68-ffacdcb2134b",
   "metadata": {},
   "outputs": [
    {
     "name": "stdin",
     "output_type": "stream",
     "text": [
      "Introduce la secuencia de ADN (Secuencias de 20-30 nucleótidos suelen proporcionar resultados más significativos):  ACTGCTAVA\n"
     ]
    },
    {
     "name": "stdout",
     "output_type": "stream",
     "text": [
      "La secuencia de proteína ingresada no es válida. Ingresa solo letras correspondientes a los aminoácidos (ACDEFGHIKLMNPQRSTVWY).\n"
     ]
    },
    {
     "name": "stdin",
     "output_type": "stream",
     "text": [
      "Introduce la secuencia de ADN (Secuencias de 20-30 nucleótidos suelen proporcionar resultados más significativos):  ACGTACGATACGATACAGCTAGACATAGCATGACA\n"
     ]
    },
    {
     "name": "stdout",
     "output_type": "stream",
     "text": [
      "Sequence:  ACGTACGATACGATACAGCTAGACATAGCATGACA\n",
      "Número de resultados obtenidos: 7\n",
      "El mejor E-value obtenido: 1.99993\n",
      "Descripción de la secuencia más similar: gi|2306605176|emb|OX244029.2| Tridacna gigas genome assembly, chromosome: 2\n"
     ]
    }
   ],
   "source": [
    "from Bio.Blast import NCBIWWW, NCBIXML\n",
    "from Bio import SeqIO\n",
    "import re\n",
    "\n",
    "#Secuencias cortas (alrededor de 20-30 nucleótidos) podrían arrojar resultados, \n",
    "#especialmente si contienen regiones o motivos altamente conservados.\n",
    "#Secuencias más largas (de varios cientos de nucleótidos o más) suelen proporcionar \n",
    "#resultados más significativos y confiables, ya que tienen más información para la comparación.\n",
    "\n",
    "# Función para validar la secuencia de proteínas\n",
    "def valida_sequenza(sequenza):\n",
    "    # Patrón para verificar la secuencia de proteínas\n",
    "    patron = re.compile(r'^[ACGT]+$')\n",
    "    return bool(patron.match(sequenza))\n",
    "\n",
    "# Obtener la secuencia de proteína del usuario con validación\n",
    "while True:\n",
    "    sequence = input(\"Introduce la secuencia de ADN (Secuencias de mas de 20-30 nucleótidos suelen proporcionar resultados más significativos): \")\n",
    "    if valida_sequenza(sequence):\n",
    "        break\n",
    "    else:\n",
    "        print(\"\\n La secuencia de ADN ingresada no es válida. Ingresa solo letras correspondientes a los aminoácidos (ACGT).\")\n",
    "\n",
    "print('Sequence: ',sequence)\n",
    "\n",
    "# Realizar la búsqueda BLAST en la base de datos de nucleótidos de NCBI\n",
    "result_handle = NCBIWWW.qblast(\"blastn\", \"nt\", sequence)\n",
    "\n",
    "\n",
    "blast_records = NCBIXML.parse(result_handle)\n",
    "\n",
    "num_results = 0\n",
    "best_e_value = float('inf')\n",
    "best_hit_description = ''\n",
    "\n",
    "for record in blast_records:\n",
    "    for alignment in record.alignments:\n",
    "        num_results += 1\n",
    "        for hsp in alignment.hsps:\n",
    "            if hsp.expect < best_e_value:\n",
    "                best_e_value = hsp.expect\n",
    "                best_hit_description = alignment.title\n",
    "\n",
    "print(\"Número de resultados obtenidos:\", num_results)\n",
    "print(\"El mejor E-value obtenido:\", best_e_value)\n",
    "print(\"Descripción de la secuencia más similar:\", best_hit_description)\n"
   ]
  },
  {
   "cell_type": "markdown",
   "id": "aadd9a0b-96c0-4fce-9827-72098f1535ed",
   "metadata": {},
   "source": [
    "# Ejercicio 2\n",
    "\n",
    "Escribe un programa en Python que use Biopython para hacer una búsqueda\n",
    "BLAST de una secuencia de proteína que introduzcas por teclado. El programa debe guardar\n",
    "en un fichero los resultados que tengan un E-value menor que 0.001. El fichero debe contener\n",
    "el identificador, la longitud, el E-value y el porcentaje de identidad de cada resultado."
   ]
  },
  {
   "cell_type": "code",
   "execution_count": 5,
   "id": "fcca0bd3-f044-489a-bf79-c475dcf77ff7",
   "metadata": {},
   "outputs": [
    {
     "name": "stdin",
     "output_type": "stream",
     "text": [
      "Introduce la secuencia de proteína (Secuencias de mas de 20-30 aminoácidos suelen proporcionar resultados más significativos):  MAEGEITTFTALTEKFNLPPGNYKKPKLLYCSNGGHFLRILPDGTVDGTRDRSDQHIQLQLSAESVGEVYIKSTETGQYLAMDTSGLLYGSQTPSEECLFLERRLEENHYNTYTSKKHAEKNWFVGLKKNGSCKRGPRTHYGQKAILFLPLPV\n"
     ]
    },
    {
     "name": "stdout",
     "output_type": "stream",
     "text": [
      "Los resultados con E-value < 0.001 han sido guardados en 'resultados_blast.txt'.\n"
     ]
    }
   ],
   "source": [
    "from Bio.Blast import NCBIWWW, NCBIXML\n",
    "import re\n",
    "\n",
    "#proteina prueba\n",
    "#MAEGEITTFTALTEKFNLPPGNYKKPKLLYCSNGGHFLRILPDGTVDGTRDRSDQHIQLQLSAESVGEVYIKSTETGQYLAMDTSGLLYGSQTPSEECLFLERRLEENHYNTYTSKKHAEKNWFVGLKKNGSCKRGPRTHYGQKAILFLPLPV\n",
    "\n",
    "\n",
    "# Función para validar la secuencia de proteínas\n",
    "def valida_sequenza_proteina(sequenza):\n",
    "    # Patrón para verificar la secuencia de proteínas\n",
    "    patron = re.compile(r'^[ACDEFGHIKLMNPQRSTVWYacdefghiklmnpqrstvwy]+$')\n",
    "    return bool(patron.match(sequenza))\n",
    "\n",
    "# Obtener la secuencia de proteína del usuario con validación\n",
    "while True:\n",
    "    protein_sequence = input(\"Introduce la secuencia de proteína (Secuencias de mas de 100 aminoácidos suelen proporcionar resultados más significativos): \")\n",
    "    if valida_sequenza_proteina(protein_sequence):\n",
    "        break\n",
    "    else:\n",
    "        print(\"La secuencia de proteína ingresada no es válida. Ingresa solo letras correspondientes a los aminoácidos (ACDEFGHIKLMNPQRSTVWY).\")\n",
    "\n",
    "# Realizar la búsqueda BLAST en la base de datos de proteínas de NCBI\n",
    "result_handle = NCBIWWW.qblast(\"blastp\", \"nr\", protein_sequence)\n",
    "\n",
    "# Analizar los resultados obtenidos\n",
    "blast_records = NCBIXML.parse(result_handle)\n",
    "\n",
    "# Crear un archivo para guardar los resultados con E-value < 0.001\n",
    "with open(\"resultados_blast.txt\", \"w\") as file_output:\n",
    "    file_output.write(\"Identificador\\tLongitud\\tE-value\\t% Identidad\\n\")\n",
    "    \n",
    "    for record in blast_records:\n",
    "        for alignment in record.alignments:\n",
    "            for hsp in alignment.hsps:\n",
    "                # Guardar resultados con E-value < 0.001 en el archivo\n",
    "                if hsp.expect < 0.001:\n",
    "                    identificador = alignment.title.split()[1]  # Obtener el identificador del título\n",
    "                    longitud = alignment.length\n",
    "                    e_value = hsp.expect\n",
    "                    porcentaje_identidad = hsp.identities / hsp.align_length * 100\n",
    "                    \n",
    "                    # Escribir los datos en el archivo\n",
    "                    file_output.write(f\"{identificador}\\t{longitud}\\t{e_value}\\t{porcentaje_identidad:.2f}%\\n\")\n",
    "\n",
    "print(\"Los resultados con E-value < 0.001 han sido guardados en 'resultados_blast.txt'.\")\n"
   ]
  },
  {
   "cell_type": "markdown",
   "id": "d6ad8a28-c510-478c-8b51-dc1662d4e7d0",
   "metadata": {},
   "source": [
    "# Ejercicio 3\n",
    "\n",
    "Escribe un programa en Python que use Biopython para hacer una búsqueda\n",
    "BLAST de una secuencia de ADN que leas de un fichero en formato FASTA. El programa\n",
    "debe hacer la búsqueda en la base de datos nr y filtrar los resultados por el organismo que\n",
    "elijas. El programa debe mostrar por pantalla el número de resultados obtenidos y el E-value\n",
    "medio de los mismos."
   ]
  },
  {
   "cell_type": "code",
   "execution_count": 1,
   "id": "1feecb1c-eb2e-4b3e-9155-b013b25d1138",
   "metadata": {},
   "outputs": [
    {
     "name": "stdout",
     "output_type": "stream",
     "text": [
      "Number of results obtained for Homo sapiens: 1\n",
      "Average E-value of the results: 0.0\n"
     ]
    }
   ],
   "source": [
    "from Bio.Blast import NCBIWWW, NCBIXML\n",
    "from Bio import SeqIO\n",
    "\n",
    "def filter_by_organism(results, organism):\n",
    "    filtered_results = []\n",
    "    for alignment in results:\n",
    "        for desc in alignment.descriptions:\n",
    "            if organism.lower() in desc.title.lower():\n",
    "                filtered_results.append(alignment)\n",
    "                break  # Move to the next result once the organism is found\n",
    "    return filtered_results\n",
    "\n",
    "fasta_file = \"secuencia_adn.fasta\"\n",
    "dna_sequence = SeqIO.read(fasta_file, \"fasta\")\n",
    "\n",
    "blast_results = NCBIWWW.qblast(\"blastn\", \"nr\", dna_sequence.seq)\n",
    "parsed_results = NCBIXML.parse(blast_results)\n",
    "\n",
    "organism_to_filter = \"Homo sapiens\"  # Modify this to your preferred organism\n",
    "\n",
    "filtered_results = filter_by_organism(parsed_results, organism_to_filter)\n",
    "\n",
    "total_e_value = 0.0\n",
    "num_hsps = 0\n",
    "\n",
    "for alignment in filtered_results:\n",
    "    for hsp in alignment.alignments:\n",
    "        for h in hsp.hsps:\n",
    "            # Process each HSP (High-scoring Segment Pair)\n",
    "            total_e_value += h.expect\n",
    "            num_hsps += 1\n",
    "\n",
    "if num_hsps > 0:\n",
    "    average_e_value = total_e_value / num_hsps\n",
    "else:\n",
    "    average_e_value = 0.0\n",
    "\n",
    "print(f\"Number of results obtained for {organism_to_filter}: {len(filtered_results)}\")\n",
    "print(f\"Average E-value of the results: {average_e_value}\")\n",
    "\n"
   ]
  },
  {
   "cell_type": "code",
   "execution_count": null,
   "id": "8514fe79-1baa-4601-84bc-5e1d40487ab0",
   "metadata": {},
   "outputs": [],
   "source": []
  }
 ],
 "metadata": {
  "kernelspec": {
   "display_name": "Python 3 (ipykernel)",
   "language": "python",
   "name": "python3"
  },
  "language_info": {
   "codemirror_mode": {
    "name": "ipython",
    "version": 3
   },
   "file_extension": ".py",
   "mimetype": "text/x-python",
   "name": "python",
   "nbconvert_exporter": "python",
   "pygments_lexer": "ipython3",
   "version": "3.10.12"
  }
 },
 "nbformat": 4,
 "nbformat_minor": 5
}
