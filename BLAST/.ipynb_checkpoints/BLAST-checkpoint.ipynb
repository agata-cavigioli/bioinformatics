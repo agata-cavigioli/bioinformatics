{
 "cells": [
  {
   "cell_type": "markdown",
   "id": "a8d6b01a-ade0-41e9-8996-ccc38a8e3311",
   "metadata": {},
   "source": [
    "# Ejercicio 1"
   ]
  },
  {
   "cell_type": "code",
   "execution_count": 5,
   "id": "93bb367b-f4e0-4f24-9b68-ffacdcb2134b",
   "metadata": {},
   "outputs": [
    {
     "name": "stdin",
     "output_type": "stream",
     "text": [
      "Introduce la secuencia de ADN:  ACGTAGCTAGCATCGACTAGCATGCTACGATCGACTCGACAAAAA\n"
     ]
    },
    {
     "name": "stdout",
     "output_type": "stream",
     "text": [
      "Sequence:  ACGTAGCTAGCATCGACTAGCATGCTACGATCGACTCGACAAAAA\n",
      "Número de resultados obtenidos: 4\n",
      "El mejor E-value obtenido: 0.547003\n",
      "Descripción de la secuencia más similar: gi|2510679329|emb|OX637586.1| Comarum palustre genome assembly, chromosome: 15\n"
     ]
    }
   ],
   "source": [
    "from Bio.Blast import NCBIWWW, NCBIXML\n",
    "from Bio import SeqIO\n",
    "\n",
    "#Secuencias cortas (alrededor de 20-30 nucleótidos) podrían arrojar resultados, \n",
    "#especialmente si contienen regiones o motivos altamente conservados.\n",
    "#Secuencias más largas (de varios cientos de nucleótidos o más) suelen proporcionar \n",
    "#resultados más significativos y confiables, ya que tienen más información para la comparación.\n",
    "\n",
    "# Función para validar la secuencia de proteínas\n",
    "def valida_sequenza(sequenza):\n",
    "    # Patrón para verificar la secuencia de proteínas\n",
    "    patron = re.compile(r'^[ACGT]+$')\n",
    "    return bool(patron.match(sequenza))\n",
    "\n",
    "# Obtener la secuencia de proteína del usuario con validación\n",
    "while True:\n",
    "    sequence = input(\"Introduce la secuencia de proteína: \")\n",
    "    if valida_sequenza(sequence):\n",
    "        break\n",
    "    else:\n",
    "        print(\"La secuencia de proteína ingresada no es válida. Ingresa solo letras correspondientes a los aminoácidos (ACDEFGHIKLMNPQRSTVWY).\")\n",
    "\n",
    "print('Sequence: ',sequence)\n",
    "\n",
    "# Realizar la búsqueda BLAST en la base de datos de nucleótidos de NCBI\n",
    "result_handle = NCBIWWW.qblast(\"blastn\", \"nt\", sequence)\n",
    "\n",
    "\n",
    "blast_records = NCBIXML.parse(result_handle)\n",
    "\n",
    "num_results = 0\n",
    "best_e_value = float('inf')\n",
    "best_hit_description = ''\n",
    "\n",
    "for record in blast_records:\n",
    "    for alignment in record.alignments:\n",
    "        num_results += 1\n",
    "        for hsp in alignment.hsps:\n",
    "            if hsp.expect < best_e_value:\n",
    "                best_e_value = hsp.expect\n",
    "                best_hit_description = alignment.title\n",
    "\n",
    "print(\"Número de resultados obtenidos:\", num_results)\n",
    "print(\"El mejor E-value obtenido:\", best_e_value)\n",
    "print(\"Descripción de la secuencia más similar:\", best_hit_description)\n"
   ]
  },
  {
   "cell_type": "markdown",
   "id": "aadd9a0b-96c0-4fce-9827-72098f1535ed",
   "metadata": {},
   "source": [
    "# Ejercicio 2"
   ]
  },
  {
   "cell_type": "code",
   "execution_count": 6,
   "id": "fcca0bd3-f044-489a-bf79-c475dcf77ff7",
   "metadata": {},
   "outputs": [
    {
     "name": "stdin",
     "output_type": "stream",
     "text": [
      "Introduce la secuencia de proteína:  abfgtsimvd\n"
     ]
    },
    {
     "name": "stdout",
     "output_type": "stream",
     "text": [
      "La secuencia de proteína ingresada no es válida. Ingresa solo letras correspondientes a los aminoácidos (ACDEFGHIKLMNPQRSTVWY).\n"
     ]
    },
    {
     "name": "stdin",
     "output_type": "stream",
     "text": [
      "Introduce la secuencia de proteína:  AFGTSKFJUSG\n"
     ]
    },
    {
     "name": "stdout",
     "output_type": "stream",
     "text": [
      "La secuencia de proteína ingresada no es válida. Ingresa solo letras correspondientes a los aminoácidos (ACDEFGHIKLMNPQRSTVWY).\n"
     ]
    },
    {
     "name": "stdin",
     "output_type": "stream",
     "text": [
      "Introduce la secuencia de proteína:  ACDAFGHIMNACGTUV\n"
     ]
    },
    {
     "name": "stdout",
     "output_type": "stream",
     "text": [
      "La secuencia de proteína ingresada no es válida. Ingresa solo letras correspondientes a los aminoácidos (ACDEFGHIKLMNPQRSTVWY).\n"
     ]
    },
    {
     "name": "stdin",
     "output_type": "stream",
     "text": [
      "Introduce la secuencia de proteína:  ACGTACGATCATGACA\n"
     ]
    },
    {
     "ename": "KeyboardInterrupt",
     "evalue": "",
     "output_type": "error",
     "traceback": [
      "\u001b[0;31m---------------------------------------------------------------------------\u001b[0m",
      "\u001b[0;31mKeyboardInterrupt\u001b[0m                         Traceback (most recent call last)",
      "Cell \u001b[0;32mIn[6], line 19\u001b[0m\n\u001b[1;32m     16\u001b[0m         \u001b[38;5;28mprint\u001b[39m(\u001b[38;5;124m\"\u001b[39m\u001b[38;5;124mLa secuencia de proteína ingresada no es válida. Ingresa solo letras correspondientes a los aminoácidos (ACDEFGHIKLMNPQRSTVWY).\u001b[39m\u001b[38;5;124m\"\u001b[39m)\n\u001b[1;32m     18\u001b[0m \u001b[38;5;66;03m# Realizar la búsqueda BLAST en la base de datos de proteínas de NCBI\u001b[39;00m\n\u001b[0;32m---> 19\u001b[0m result_handle \u001b[38;5;241m=\u001b[39m \u001b[43mNCBIWWW\u001b[49m\u001b[38;5;241;43m.\u001b[39;49m\u001b[43mqblast\u001b[49m\u001b[43m(\u001b[49m\u001b[38;5;124;43m\"\u001b[39;49m\u001b[38;5;124;43mblastp\u001b[39;49m\u001b[38;5;124;43m\"\u001b[39;49m\u001b[43m,\u001b[49m\u001b[43m \u001b[49m\u001b[38;5;124;43m\"\u001b[39;49m\u001b[38;5;124;43mnr\u001b[39;49m\u001b[38;5;124;43m\"\u001b[39;49m\u001b[43m,\u001b[49m\u001b[43m \u001b[49m\u001b[43mprotein_sequence\u001b[49m\u001b[43m)\u001b[49m\n\u001b[1;32m     21\u001b[0m \u001b[38;5;66;03m# Analizar los resultados obtenidos\u001b[39;00m\n\u001b[1;32m     22\u001b[0m blast_records \u001b[38;5;241m=\u001b[39m NCBIXML\u001b[38;5;241m.\u001b[39mparse(result_handle)\n",
      "File \u001b[0;32m~/.local/lib/python3.10/site-packages/Bio/Blast/NCBIWWW.py:268\u001b[0m, in \u001b[0;36mqblast\u001b[0;34m(program, database, sequence, url_base, auto_format, composition_based_statistics, db_genetic_code, endpoints, entrez_query, expect, filter, gapcosts, genetic_code, hitlist_size, i_thresh, layout, lcase_mask, matrix_name, nucl_penalty, nucl_reward, other_advanced, perc_ident, phi_pattern, query_file, query_believe_defline, query_from, query_to, searchsp_eff, service, threshold, ungapped_alignment, word_size, short_query, alignments, alignment_view, descriptions, entrez_links_new_window, expect_low, expect_high, format_entrez_query, format_object, format_type, ncbi_gi, results_file, show_overview, megablast, template_type, template_length, username, password)\u001b[0m\n\u001b[1;32m    266\u001b[0m wait \u001b[38;5;241m=\u001b[39m qblast\u001b[38;5;241m.\u001b[39m_previous \u001b[38;5;241m+\u001b[39m delay \u001b[38;5;241m-\u001b[39m current\n\u001b[1;32m    267\u001b[0m \u001b[38;5;28;01mif\u001b[39;00m wait \u001b[38;5;241m>\u001b[39m \u001b[38;5;241m0\u001b[39m:\n\u001b[0;32m--> 268\u001b[0m     \u001b[43mtime\u001b[49m\u001b[38;5;241;43m.\u001b[39;49m\u001b[43msleep\u001b[49m\u001b[43m(\u001b[49m\u001b[43mwait\u001b[49m\u001b[43m)\u001b[49m\n\u001b[1;32m    269\u001b[0m     qblast\u001b[38;5;241m.\u001b[39m_previous \u001b[38;5;241m=\u001b[39m current \u001b[38;5;241m+\u001b[39m wait\n\u001b[1;32m    270\u001b[0m \u001b[38;5;28;01melse\u001b[39;00m:\n",
      "\u001b[0;31mKeyboardInterrupt\u001b[0m: "
     ]
    }
   ],
   "source": [
    "from Bio.Blast import NCBIWWW, NCBIXML\n",
    "import re\n",
    "\n",
    "# Función para validar la secuencia de proteínas\n",
    "def valida_sequenza_proteina(sequenza):\n",
    "    # Patrón para verificar la secuencia de proteínas\n",
    "    patron = re.compile(r'^[ACDEFGHIKLMNPQRSTVWYacdefghiklmnpqrstvwy]+$')\n",
    "    return bool(patron.match(sequenza))\n",
    "\n",
    "# Obtener la secuencia de proteína del usuario con validación\n",
    "while True:\n",
    "    protein_sequence = input(\"Introduce la secuencia de proteína: \")\n",
    "    if valida_sequenza_proteina(protein_sequence):\n",
    "        break\n",
    "    else:\n",
    "        print(\"La secuencia de proteína ingresada no es válida. Ingresa solo letras correspondientes a los aminoácidos (ACDEFGHIKLMNPQRSTVWY).\")\n",
    "\n",
    "# Realizar la búsqueda BLAST en la base de datos de proteínas de NCBI\n",
    "result_handle = NCBIWWW.qblast(\"blastp\", \"nr\", protein_sequence)\n",
    "\n",
    "# Analizar los resultados obtenidos\n",
    "blast_records = NCBIXML.parse(result_handle)\n",
    "\n",
    "# Crear un archivo para guardar los resultados con E-value < 0.001\n",
    "with open(\"resultados_blast.txt\", \"w\") as file_output:\n",
    "    file_output.write(\"Identificador\\tLongitud\\tE-value\\t% Identidad\\n\")\n",
    "    \n",
    "    for record in blast_records:\n",
    "        for alignment in record.alignments:\n",
    "            for hsp in alignment.hsps:\n",
    "                # Guardar resultados con E-value < 0.001 en el archivo\n",
    "                if hsp.expect < 0.001:\n",
    "                    identificador = alignment.title.split()[1]  # Obtener el identificador del título\n",
    "                    longitud = alignment.length\n",
    "                    e_value = hsp.expect\n",
    "                    porcentaje_identidad = hsp.identities / hsp.align_length * 100\n",
    "                    \n",
    "                    # Escribir los datos en el archivo\n",
    "                    file_output.write(f\"{identificador}\\t{longitud}\\t{e_value}\\t{porcentaje_identidad:.2f}%\\n\")\n",
    "\n",
    "print(\"Los resultados con E-value < 0.001 han sido guardados en 'resultados_blast.txt'.\")\n"
   ]
  },
  {
   "cell_type": "code",
   "execution_count": null,
   "id": "1f8fc0cc-43aa-4cb6-8d29-549c4fa5dcfe",
   "metadata": {},
   "outputs": [],
   "source": []
  }
 ],
 "metadata": {
  "kernelspec": {
   "display_name": "Python 3 (ipykernel)",
   "language": "python",
   "name": "python3"
  },
  "language_info": {
   "codemirror_mode": {
    "name": "ipython",
    "version": 3
   },
   "file_extension": ".py",
   "mimetype": "text/x-python",
   "name": "python",
   "nbconvert_exporter": "python",
   "pygments_lexer": "ipython3",
   "version": "3.10.12"
  }
 },
 "nbformat": 4,
 "nbformat_minor": 5
}
