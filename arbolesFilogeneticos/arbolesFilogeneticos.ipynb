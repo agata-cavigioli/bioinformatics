{
 "cells": [
  {
   "cell_type": "code",
   "execution_count": 2,
   "id": "b5b7f65d-d0e9-46d4-93e3-2d691d7e68ee",
   "metadata": {},
   "outputs": [
    {
     "name": "stdout",
     "output_type": "stream",
     "text": [
      "Tree(rooted=False, weight=1.0)\n",
      "    Clade()\n",
      "        Clade()\n",
      "            Clade()\n",
      "                Clade(name='A')\n",
      "                Clade(name='B')\n",
      "            Clade()\n",
      "                Clade(name='C')\n",
      "                Clade(name='D')\n",
      "        Clade()\n",
      "            Clade(name='E')\n",
      "            Clade(name='F')\n",
      "            Clade(name='G')\n"
     ]
    }
   ],
   "source": [
    "from Bio import Phylo\n",
    "tree = Phylo.read('simple.dnd','newick')\n",
    "print(tree)"
   ]
  },
  {
   "cell_type": "code",
   "execution_count": 6,
   "id": "100a9d30-756e-4566-a692-eccd23513e1f",
   "metadata": {},
   "outputs": [
    {
     "data": {
      "image/png": "[encoded data removed]",
      "text/plain": [
       "<Figure size 640x480 with 1 Axes>"
      ]
     },
     "metadata": {},
     "output_type": "display_data"
    },
    {
     "name": "stdout",
     "output_type": "stream",
     "text": [
      "<phyloxml xmlns:xsi=\"http://www.w3.org/2001/XMLSchema-instance\" xmlns=\"http://www.phyloxml.org\" xsi:schemaLocation=\"http://www.phyloxml.org http://www.phyloxml.org/1.10/phyloxml.xsd\">\n",
      "  <phylogeny rooted=\"false\">\n",
      "    <clade>\n",
      "      <clade>\n",
      "        <clade>\n",
      "          <clade>\n",
      "            <name>A</name>\n",
      "          </clade>\n",
      "          <clade>\n",
      "            <name>B</name>\n",
      "          </clade>\n",
      "        </clade>\n",
      "        <clade>\n",
      "          <clade>\n",
      "            <name>C</name>\n",
      "          </clade>\n",
      "          <clade>\n",
      "            <name>D</name>\n",
      "          </clade>\n",
      "        </clade>\n",
      "      </clade>\n",
      "      <clade>\n",
      "        <color>\n",
      "          <red>255</red>\n",
      "          <green>0</green>\n",
      "          <blue>255</blue>\n",
      "        </color>\n",
      "        <clade>\n",
      "          <name>E</name>\n",
      "        </clade>\n",
      "        <clade>\n",
      "          <name>F</name>\n",
      "        </clade>\n",
      "        <clade>\n",
      "          <name>G</name>\n",
      "        </clade>\n",
      "      </clade>\n",
      "    </clade>\n",
      "  </phylogeny>\n",
      "</phyloxml>"
     ]
    }
   ],
   "source": [
    "import sys\n",
    "\n",
    "mrca = tree.common_ancestor({'name':'E'},{'name':'F'})\n",
    "mrca.color = 'fuchsia'\n",
    "Phylo.draw(tree)\n",
    "n = Phylo.write(tree,sys.stdout,'phyloxml')"
   ]
  },
  {
   "cell_type": "code",
   "execution_count": null,
   "id": "e770660e-b4f3-4ebd-84b4-49e27ad3a8e2",
   "metadata": {},
   "outputs": [],
   "source": []
  }
 ],
 "metadata": {
  "kernelspec": {
   "display_name": "Python 3 (ipykernel)",
   "language": "python",
   "name": "python3"
  },
  "language_info": {
   "codemirror_mode": {
    "name": "ipython",
    "version": 3
   },
   "file_extension": ".py",
   "mimetype": "text/x-python",
   "name": "python",
   "nbconvert_exporter": "python",
   "pygments_lexer": "ipython3",
   "version": "3.10.12"
  }
 },
 "nbformat": 4,
 "nbformat_minor": 5
}
